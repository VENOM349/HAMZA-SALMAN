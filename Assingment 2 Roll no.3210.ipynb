{
 "cells": [
  {
   "cell_type": "code",
   "execution_count": 1,
   "id": "52ffd2e6",
   "metadata": {},
   "outputs": [
    {
     "name": "stdout",
     "output_type": "stream",
     "text": [
      "marks X 1 = 40\n",
      "marks X 2 = 80\n",
      "marks X 3 = 120\n",
      "marks X 4 = 160\n",
      "marks X 5 = 200\n",
      "marks X 6 = 240\n",
      "marks X 7 = 280\n",
      "marks X 8 = 320\n",
      "marks X 9 = 360\n",
      "marks X 10 = 400\n",
      "marks X 11 = 440\n",
      "marks X 12 = 480\n",
      "marks X 13 = 520\n",
      "marks X 14 = 560\n",
      "marks X 15 = 600\n",
      "marks X 16 = 640\n",
      "marks X 17 = 680\n",
      "marks X 18 = 720\n",
      "marks X 19 = 760\n"
     ]
    }
   ],
   "source": [
    "marks = 40\n",
    "for exam in range(1 , 20):\n",
    "    print('marks' , 'X' , exam , '=' , marks * exam)"
   ]
  },
  {
   "cell_type": "code",
   "execution_count": null,
   "id": "a233de1c",
   "metadata": {},
   "outputs": [],
   "source": []
  }
 ],
 "metadata": {
  "kernelspec": {
   "display_name": "Python 3 (ipykernel)",
   "language": "python",
   "name": "python3"
  },
  "language_info": {
   "codemirror_mode": {
    "name": "ipython",
    "version": 3
   },
   "file_extension": ".py",
   "mimetype": "text/x-python",
   "name": "python",
   "nbconvert_exporter": "python",
   "pygments_lexer": "ipython3",
   "version": "3.9.12"
  }
 },
 "nbformat": 4,
 "nbformat_minor": 5
}
