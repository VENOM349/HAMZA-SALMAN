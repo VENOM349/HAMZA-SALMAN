{
 "cells": [
  {
   "cell_type": "code",
   "execution_count": 1,
   "metadata": {},
   "outputs": [],
   "source": [
    "Email_ID = ['hamzabro@gmail.com' , 'ahmedbro@yahoo.com' , 'subhanbro@hotmail.com' , 'dadbro@aol.com' , 'corona@gmail.com']\n",
    "Password = ['hamza10' , 'happy4' , 'bro66' , 'konkon' , 'darr']"
   ]
  },
  {
   "cell_type": "code",
   "execution_count": 2,
   "metadata": {},
   "outputs": [
    {
     "name": "stdout",
     "output_type": "stream",
     "text": [
      "Type your Email here : hamzabro@gmail.com\n"
     ]
    }
   ],
   "source": [
    "userinputemail = input('Type your Email here : ')"
   ]
  },
  {
   "cell_type": "code",
   "execution_count": 3,
   "metadata": {},
   "outputs": [
    {
     "name": "stdout",
     "output_type": "stream",
     "text": [
      "Type your Password here : hamza10\n"
     ]
    }
   ],
   "source": [
    "userinputpass = input('Type your Password here : ')"
   ]
  },
  {
   "cell_type": "code",
   "execution_count": 4,
   "metadata": {},
   "outputs": [
    {
     "name": "stdout",
     "output_type": "stream",
     "text": [
      "You can login\n"
     ]
    }
   ],
   "source": [
    "if userinputemail in Email_ID and userinputpass in Password:\n",
    "    print('You can login')\n",
    "    \n",
    "else:\n",
    "    print('you cant login')"
   ]
  },
  {
   "cell_type": "code",
   "execution_count": null,
   "metadata": {},
   "outputs": [],
   "source": []
  }
 ],
 "metadata": {
  "kernelspec": {
   "display_name": "Python 3",
   "language": "python",
   "name": "python3"
  },
  "language_info": {
   "codemirror_mode": {
    "name": "ipython",
    "version": 3
   },
   "file_extension": ".py",
   "mimetype": "text/x-python",
   "name": "python",
   "nbconvert_exporter": "python",
   "pygments_lexer": "ipython3",
   "version": "3.8.5"
  }
 },
 "nbformat": 4,
 "nbformat_minor": 4
}
