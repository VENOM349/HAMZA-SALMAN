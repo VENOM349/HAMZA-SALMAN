{
 "cells": [
  {
   "cell_type": "code",
   "execution_count": 1,
   "id": "448a56e8",
   "metadata": {},
   "outputs": [
    {
     "name": "stdout",
     "output_type": "stream",
     "text": [
      "congratulation you got B\n"
     ]
    }
   ],
   "source": [
    "marks = 500 \n",
    "\n",
    "obatain_marks = 300\n",
    "\n",
    "percentage = 300 / 5\n",
    "\n",
    "percentage = '60%'\n",
    "\n",
    "if percentage >= '80%':\n",
    "    print(\"congratulation you got A+\")\n",
    "    \n",
    "elif percentage >= '70%':\n",
    "    print(\"Congratulation you got A\")\n",
    "    \n",
    "elif percentage >= '60%':\n",
    "    print(\"congratulation you got B\")\n",
    "    \n",
    "elif percentage >= '50%':\n",
    "    print(\"Congratulation you got C\")\n",
    "    \n",
    "else:\n",
    "    print(\"you need to work hard you got D\")"
   ]
  },
  {
   "cell_type": "code",
   "execution_count": null,
   "id": "8ead3b19",
   "metadata": {},
   "outputs": [],
   "source": []
  }
 ],
 "metadata": {
  "kernelspec": {
   "display_name": "Python 3 (ipykernel)",
   "language": "python",
   "name": "python3"
  },
  "language_info": {
   "codemirror_mode": {
    "name": "ipython",
    "version": 3
   },
   "file_extension": ".py",
   "mimetype": "text/x-python",
   "name": "python",
   "nbconvert_exporter": "python",
   "pygments_lexer": "ipython3",
   "version": "3.9.12"
  }
 },
 "nbformat": 4,
 "nbformat_minor": 5
}
