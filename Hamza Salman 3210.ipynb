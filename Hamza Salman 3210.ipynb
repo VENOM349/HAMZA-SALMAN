{
 "cells": [
  {
   "cell_type": "code",
   "execution_count": 1,
   "id": "70139ddc",
   "metadata": {},
   "outputs": [],
   "source": [
    "marks = 500"
   ]
  },
  {
   "cell_type": "code",
   "execution_count": 2,
   "id": "fba805ba",
   "metadata": {},
   "outputs": [],
   "source": [
    "obtain_marks = 300"
   ]
  },
  {
   "cell_type": "code",
   "execution_count": 3,
   "id": "8fbb617a",
   "metadata": {},
   "outputs": [],
   "source": [
    "percentage = 300 / 5"
   ]
  },
  {
   "cell_type": "code",
   "execution_count": 4,
   "id": "760d6902",
   "metadata": {},
   "outputs": [
    {
     "data": {
      "text/plain": [
       "60.0"
      ]
     },
     "execution_count": 4,
     "metadata": {},
     "output_type": "execute_result"
    }
   ],
   "source": [
    "percentage "
   ]
  },
  {
   "cell_type": "code",
   "execution_count": 5,
   "id": "deb3ae50",
   "metadata": {},
   "outputs": [
    {
     "name": "stdout",
     "output_type": "stream",
     "text": [
      "congratulation you got B\n"
     ]
    }
   ],
   "source": [
    "percentage = '60%'\n",
    "\n",
    "if percentage >= '80%':\n",
    "    print(\"congratulation you got A+\")\n",
    "    \n",
    "elif percentage >= '70%':\n",
    "    print(\"Congratulation you got A\")\n",
    "    \n",
    "elif percentage >= '60%':\n",
    "    print(\"congratulation you got B\")\n",
    "    \n",
    "elif percentage >= '50%':\n",
    "    print(\"Congratulation you got C\")\n",
    "    \n",
    "else:\n",
    "    print(\"you need to work hard you got D\")"
   ]
  },
  {
   "cell_type": "code",
   "execution_count": null,
   "id": "adb676b5",
   "metadata": {},
   "outputs": [],
   "source": []
  }
 ],
 "metadata": {
  "kernelspec": {
   "display_name": "Python 3 (ipykernel)",
   "language": "python",
   "name": "python3"
  },
  "language_info": {
   "codemirror_mode": {
    "name": "ipython",
    "version": 3
   },
   "file_extension": ".py",
   "mimetype": "text/x-python",
   "name": "python",
   "nbconvert_exporter": "python",
   "pygments_lexer": "ipython3",
   "version": "3.9.12"
  }
 },
 "nbformat": 4,
 "nbformat_minor": 5
}
