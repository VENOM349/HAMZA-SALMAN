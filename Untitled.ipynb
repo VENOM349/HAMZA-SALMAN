{
 "cells": [
  {
   "cell_type": "code",
   "execution_count": 1,
   "id": "86be4b29",
   "metadata": {},
   "outputs": [],
   "source": [
    "Email_ID = ['hamza' , 'ahmed' , 'subhan' , 'umar' , 'usman']\n",
    "Password = ['kk' , 'jj' , 'mm' , 'oo' , 'uu']"
   ]
  },
  {
   "cell_type": "code",
   "execution_count": 2,
   "id": "466f3569",
   "metadata": {},
   "outputs": [
    {
     "name": "stdout",
     "output_type": "stream",
     "text": [
      "Type your email here : ahmed\n"
     ]
    }
   ],
   "source": [
    "userinputemail = input('Type your email here : ')"
   ]
  },
  {
   "cell_type": "code",
   "execution_count": 3,
   "id": "b38e609d",
   "metadata": {},
   "outputs": [
    {
     "name": "stdout",
     "output_type": "stream",
     "text": [
      "Type your password here : hh\n"
     ]
    }
   ],
   "source": [
    "userinputpass =  input('Type your password here : ')"
   ]
  },
  {
   "cell_type": "code",
   "execution_count": 4,
   "id": "f2fe3af4",
   "metadata": {},
   "outputs": [
    {
     "name": "stdout",
     "output_type": "stream",
     "text": [
      "you can login\n"
     ]
    }
   ],
   "source": [
    "if userinputemail in Email_ID:\n",
    "    print(\"you can login\")\n",
    "    \n",
    "else:\n",
    "    print(\"Your email is wrong\")"
   ]
  },
  {
   "cell_type": "code",
   "execution_count": 5,
   "id": "80dee3cb",
   "metadata": {},
   "outputs": [
    {
     "name": "stdout",
     "output_type": "stream",
     "text": [
      "Your Password is wrong\n"
     ]
    }
   ],
   "source": [
    "if userinputpass in Password:\n",
    "    print('you can login')\n",
    "    \n",
    "else:\n",
    "    print(\"Your Password is wrong\")"
   ]
  },
  {
   "cell_type": "code",
   "execution_count": 6,
   "id": "504039fd",
   "metadata": {},
   "outputs": [
    {
     "name": "stdout",
     "output_type": "stream",
     "text": [
      "Type Your Password Here : hamzass\n",
      "password ok\n"
     ]
    }
   ],
   "source": [
    "UserPassword = input(\"Type Your Password Here : \")\n",
    "\n",
    "if len(UserPassword) >8:\n",
    "        print ('password is too long It must be between 4 and 8 characters')\n",
    "\n",
    "elif len(UserPassword) <4:\n",
    "        print ('password is too short It must be between 4 and 8 characters')\n",
    "\n",
    "elif len(UserPassword)    >=4 and len(UserPassword) <= 8:\n",
    "        print ('password ok')"
   ]
  },
  {
   "cell_type": "code",
   "execution_count": 7,
   "id": "d523d72d",
   "metadata": {
    "scrolled": true
   },
   "outputs": [
    {
     "name": "stdout",
     "output_type": "stream",
     "text": [
      "Type your password here : hamzasal\n",
      "Your password must have atleast one capital letter\n"
     ]
    }
   ],
   "source": [
    "UserPassword = input(\"Type your password here : \")\n",
    "\n",
    "if UserPassword.isupper() == False:\n",
    "    print(\"Your password must have atleast one capital letter\")\n"
   ]
  },
  {
   "cell_type": "code",
   "execution_count": 13,
   "id": "0ea38d26",
   "metadata": {},
   "outputs": [
    {
     "name": "stdout",
     "output_type": "stream",
     "text": [
      "Type your email here : hamzasalman@gmail.com\n",
      "your email is correct\n"
     ]
    }
   ],
   "source": [
    "UserEmail = input(\"Type your email here : \")\n",
    "\n",
    "if UserEmail.endswith('.com') and (char in '@' for char in UserEmail):\n",
    "    print('your email is correct')"
   ]
  },
  {
   "cell_type": "code",
   "execution_count": null,
   "id": "3bf8b475",
   "metadata": {},
   "outputs": [],
   "source": []
  }
 ],
 "metadata": {
  "kernelspec": {
   "display_name": "Python 3 (ipykernel)",
   "language": "python",
   "name": "python3"
  },
  "language_info": {
   "codemirror_mode": {
    "name": "ipython",
    "version": 3
   },
   "file_extension": ".py",
   "mimetype": "text/x-python",
   "name": "python",
   "nbconvert_exporter": "python",
   "pygments_lexer": "ipython3",
   "version": "3.9.12"
  }
 },
 "nbformat": 4,
 "nbformat_minor": 5
}
